{
 "cells": [
  {
   "cell_type": "code",
   "execution_count": 32,
   "metadata": {},
   "outputs": [],
   "source": [
    "import numpy as np\n",
    "import pandas as pd"
   ]
  },
  {
   "cell_type": "code",
   "execution_count": 42,
   "metadata": {},
   "outputs": [],
   "source": [
    "def df_to_latex(df):\n",
    "    \"\"\"\n",
    "    uConvert Pandas dataframe to Latex table to display in report\n",
    "    \"\"\"\n",
    "    cols = list(df.columns)\n",
    "    cols.remove(\"train_acc\")\n",
    "\n",
    "    c = \" \".join([\"c\"] * len(df.columns))\n",
    "    st = \"\\\\begin{table}[H] \\centering \\\\begin{tabular}\" + \"{||\" + \" \".join([\"c\"] * len(cols)) + \"||}\"\n",
    "    st += '\\n' + '\\\\hline'\n",
    "    st += '\\n' +  \" & \".join([col.replace('_', '\\\\_') for col in cols]) + \" \\\\\\\\\"\n",
    "    st += '\\n' + '\\\\hline\\\\hline'\n",
    "\n",
    "    def val_format(val):\n",
    "        if pd.notna(val):\n",
    "            return val\n",
    "        return \"\"\n",
    "\n",
    "    for i in range(len(df.index)):\n",
    "        st += '\\n' + \" & \".join([f\"{val_format(df.loc[i, col])}\" for col in cols]) + \" \\\\\\\\\"\n",
    "        st += '\\n' + '\\\\hline'\n",
    "    \n",
    "    st += '\\n' + '\\\\end{tabular} \\\\end{table}'\n",
    "    return st\n"
   ]
  },
  {
   "cell_type": "code",
   "execution_count": 46,
   "metadata": {},
   "outputs": [
    {
     "name": "stdout",
     "output_type": "stream",
     "text": [
      "\\begin{table}[H] \\centering \\begin{tabular}{||c c c c c||}\n",
      "\\hline\n",
      "activation & batch\\_size & lr & val\\_acc & test\\_acc \\\\\n",
      "\\hline\\hline\n",
      "logistic & 16 & 0.0001 & 0.4846 &  \\\\\n",
      "\\hline\n",
      "logistic & 16 & 0.001 & 0.4312 &  \\\\\n",
      "\\hline\n",
      "logistic & 16 & 0.01 & 0.3458 &  \\\\\n",
      "\\hline\n",
      "logistic & 64 & 0.0001 & 0.4948 &  \\\\\n",
      "\\hline\n",
      "logistic & 64 & 0.001 & 0.4455 &  \\\\\n",
      "\\hline\n",
      "logistic & 64 & 0.01 & 0.4271 &  \\\\\n",
      "\\hline\n",
      "relu & 16 & 0.0001 & 0.4995 &  \\\\\n",
      "\\hline\n",
      "relu & 16 & 0.001 & 0.4803 &  \\\\\n",
      "\\hline\n",
      "relu & 16 & 0.01 & 0.2757 &  \\\\\n",
      "\\hline\n",
      "relu & 64 & 0.0001 & 0.5178 & 0.5123 \\\\\n",
      "\\hline\n",
      "relu & 64 & 0.001 & 0.4774 &  \\\\\n",
      "\\hline\n",
      "relu & 64 & 0.01 & 0.4027 &  \\\\\n",
      "\\hline\n",
      "\\end{tabular} \\end{table}\n"
     ]
    }
   ],
   "source": [
    "df = pd.read_csv(\"results/multi_layer_perceptron_tuning.csv\")\n",
    "print(df_to_latex(df))"
   ]
  }
 ],
 "metadata": {
  "kernelspec": {
   "display_name": "cmput466",
   "language": "python",
   "name": "python3"
  },
  "language_info": {
   "codemirror_mode": {
    "name": "ipython",
    "version": 3
   },
   "file_extension": ".py",
   "mimetype": "text/x-python",
   "name": "python",
   "nbconvert_exporter": "python",
   "pygments_lexer": "ipython3",
   "version": "3.11.5"
  }
 },
 "nbformat": 4,
 "nbformat_minor": 2
}
